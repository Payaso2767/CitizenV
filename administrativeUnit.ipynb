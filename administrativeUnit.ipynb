{
 "cells": [
  {
   "cell_type": "code",
   "execution_count": 1,
   "metadata": {},
   "outputs": [],
   "source": [
    "import pandas as pd\n",
    "import json"
   ]
  },
  {
   "cell_type": "code",
   "execution_count": 2,
   "metadata": {},
   "outputs": [
    {
     "data": {
      "text/html": [
       "<div>\n",
       "<style scoped>\n",
       "    .dataframe tbody tr th:only-of-type {\n",
       "        vertical-align: middle;\n",
       "    }\n",
       "\n",
       "    .dataframe tbody tr th {\n",
       "        vertical-align: top;\n",
       "    }\n",
       "\n",
       "    .dataframe thead th {\n",
       "        text-align: right;\n",
       "    }\n",
       "</style>\n",
       "<table border=\"1\" class=\"dataframe\">\n",
       "  <thead>\n",
       "    <tr style=\"text-align: right;\">\n",
       "      <th></th>\n",
       "      <th>Tỉnh Thành Phố</th>\n",
       "      <th>Mã TP</th>\n",
       "      <th>Quận Huyện</th>\n",
       "      <th>Mã QH</th>\n",
       "      <th>Phường Xã</th>\n",
       "      <th>Mã PX</th>\n",
       "      <th>Cấp</th>\n",
       "      <th>Tên Tiếng Anh</th>\n",
       "    </tr>\n",
       "  </thead>\n",
       "  <tbody>\n",
       "    <tr>\n",
       "      <th>0</th>\n",
       "      <td>Thành phố Hà Nội</td>\n",
       "      <td>01</td>\n",
       "      <td>Quận Ba Đình</td>\n",
       "      <td>001</td>\n",
       "      <td>Phường Phúc Xá</td>\n",
       "      <td>00001</td>\n",
       "      <td>Phường</td>\n",
       "      <td>NaN</td>\n",
       "    </tr>\n",
       "    <tr>\n",
       "      <th>1</th>\n",
       "      <td>Thành phố Hà Nội</td>\n",
       "      <td>01</td>\n",
       "      <td>Quận Ba Đình</td>\n",
       "      <td>001</td>\n",
       "      <td>Phường Trúc Bạch</td>\n",
       "      <td>00004</td>\n",
       "      <td>Phường</td>\n",
       "      <td>NaN</td>\n",
       "    </tr>\n",
       "    <tr>\n",
       "      <th>2</th>\n",
       "      <td>Thành phố Hà Nội</td>\n",
       "      <td>01</td>\n",
       "      <td>Quận Ba Đình</td>\n",
       "      <td>001</td>\n",
       "      <td>Phường Vĩnh Phúc</td>\n",
       "      <td>00006</td>\n",
       "      <td>Phường</td>\n",
       "      <td>Vinh Phuc Commune</td>\n",
       "    </tr>\n",
       "    <tr>\n",
       "      <th>3</th>\n",
       "      <td>Thành phố Hà Nội</td>\n",
       "      <td>01</td>\n",
       "      <td>Quận Ba Đình</td>\n",
       "      <td>001</td>\n",
       "      <td>Phường Cống Vị</td>\n",
       "      <td>00007</td>\n",
       "      <td>Phường</td>\n",
       "      <td>NaN</td>\n",
       "    </tr>\n",
       "    <tr>\n",
       "      <th>4</th>\n",
       "      <td>Thành phố Hà Nội</td>\n",
       "      <td>01</td>\n",
       "      <td>Quận Ba Đình</td>\n",
       "      <td>001</td>\n",
       "      <td>Phường Liễu Giai</td>\n",
       "      <td>00008</td>\n",
       "      <td>Phường</td>\n",
       "      <td>Lieu Giai Commune</td>\n",
       "    </tr>\n",
       "  </tbody>\n",
       "</table>\n",
       "</div>"
      ],
      "text/plain": [
       "     Tỉnh Thành Phố Mã TP    Quận Huyện Mã QH         Phường Xã  Mã PX  \\\n",
       "0  Thành phố Hà Nội    01  Quận Ba Đình   001    Phường Phúc Xá  00001   \n",
       "1  Thành phố Hà Nội    01  Quận Ba Đình   001  Phường Trúc Bạch  00004   \n",
       "2  Thành phố Hà Nội    01  Quận Ba Đình   001  Phường Vĩnh Phúc  00006   \n",
       "3  Thành phố Hà Nội    01  Quận Ba Đình   001    Phường Cống Vị  00007   \n",
       "4  Thành phố Hà Nội    01  Quận Ba Đình   001  Phường Liễu Giai  00008   \n",
       "\n",
       "      Cấp      Tên Tiếng Anh  \n",
       "0  Phường                NaN  \n",
       "1  Phường                NaN  \n",
       "2  Phường  Vinh Phuc Commune  \n",
       "3  Phường                NaN  \n",
       "4  Phường  Lieu Giai Commune  "
      ]
     },
     "execution_count": 2,
     "metadata": {},
     "output_type": "execute_result"
    }
   ],
   "source": [
    "df = pd.read_excel('TinhHuyenXa2021.xlsx', dtype=str)\n",
    "df.head()"
   ]
  },
  {
   "cell_type": "code",
   "execution_count": 3,
   "metadata": {},
   "outputs": [],
   "source": [
    "citySet, districtSet = set(), set()\n",
    "dct = {}\n",
    "for index, row in df.iterrows():\n",
    "    cityName, cityCode = row['Tỉnh Thành Phố'], row['Mã TP']\n",
    "    districtName, districtCode = row['Quận Huyện'], row['Mã QH']\n",
    "    wardName, wardCode = row['Phường Xã'], row['Mã PX']\n",
    "    if cityCode not in citySet:\n",
    "        citySet.add(cityCode)\n",
    "        dct[cityCode] = {}\n",
    "        dct[cityCode][\"name\"] = cityName\n",
    "    if districtCode not in districtSet:\n",
    "        districtSet.add(districtCode)\n",
    "        dct[cityCode][districtCode] = {}\n",
    "        dct[cityCode][districtCode][\"name\"] = districtName\n",
    "    dct[cityCode][districtCode][wardCode] = wardName"
   ]
  },
  {
   "cell_type": "code",
   "execution_count": 4,
   "metadata": {},
   "outputs": [],
   "source": [
    "with open(\"vietnam.json\", \"w\", encoding='utf-8') as outfile:\n",
    "    json.dump(dct, outfile, indent=4, ensure_ascii=False)"
   ]
  }
 ],
 "metadata": {
  "interpreter": {
   "hash": "e94dd2023f21a93510fb04e380baf504272aa09c40641b7e8c2a7346f5fbf161"
  },
  "kernelspec": {
   "display_name": "Python 3.8.7 64-bit",
   "language": "python",
   "name": "python3"
  },
  "language_info": {
   "codemirror_mode": {
    "name": "ipython",
    "version": 3
   },
   "file_extension": ".py",
   "mimetype": "text/x-python",
   "name": "python",
   "nbconvert_exporter": "python",
   "pygments_lexer": "ipython3",
   "version": "3.8.7"
  },
  "orig_nbformat": 4
 },
 "nbformat": 4,
 "nbformat_minor": 2
}
